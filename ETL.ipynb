{
 "cells": [
  {
   "cell_type": "code",
   "execution_count": 7,
   "metadata": {},
   "outputs": [],
   "source": [
    "import pandas as pd"
   ]
  },
  {
   "cell_type": "code",
   "execution_count": 1,
   "metadata": {},
   "outputs": [],
   "source": [
    "import requests\n",
    "\n",
    "def get_banks_data():\n",
    "    url = \"https://brasilapi.com.br/api/banks/v1\"\n",
    "    response = requests.get(url)\n",
    "    if response.status_code == 200:\n",
    "        data = response.json()\n",
    "        return data\n",
    "    else:\n",
    "        print(\"Erro ao puxar dados\")\n",
    "        return None"
   ]
  },
  {
   "cell_type": "code",
   "execution_count": null,
   "metadata": {},
   "outputs": [],
   "source": [
    "banco = get_banks_data()\n",
    "banco"
   ]
  },
  {
   "cell_type": "code",
   "execution_count": 8,
   "metadata": {},
   "outputs": [
    {
     "data": {
      "text/html": [
       "<div>\n",
       "<style scoped>\n",
       "    .dataframe tbody tr th:only-of-type {\n",
       "        vertical-align: middle;\n",
       "    }\n",
       "\n",
       "    .dataframe tbody tr th {\n",
       "        vertical-align: top;\n",
       "    }\n",
       "\n",
       "    .dataframe thead th {\n",
       "        text-align: right;\n",
       "    }\n",
       "</style>\n",
       "<table border=\"1\" class=\"dataframe\">\n",
       "  <thead>\n",
       "    <tr style=\"text-align: right;\">\n",
       "      <th></th>\n",
       "      <th>ispb</th>\n",
       "      <th>name</th>\n",
       "      <th>code</th>\n",
       "      <th>fullName</th>\n",
       "    </tr>\n",
       "  </thead>\n",
       "  <tbody>\n",
       "    <tr>\n",
       "      <th>0</th>\n",
       "      <td>00000000</td>\n",
       "      <td>BCO DO BRASIL S.A.</td>\n",
       "      <td>1.0</td>\n",
       "      <td>Banco do Brasil S.A.</td>\n",
       "    </tr>\n",
       "    <tr>\n",
       "      <th>1</th>\n",
       "      <td>00000208</td>\n",
       "      <td>BRB - BCO DE BRASILIA S.A.</td>\n",
       "      <td>70.0</td>\n",
       "      <td>BRB - BANCO DE BRASILIA S.A.</td>\n",
       "    </tr>\n",
       "    <tr>\n",
       "      <th>2</th>\n",
       "      <td>00038121</td>\n",
       "      <td>Selic</td>\n",
       "      <td>NaN</td>\n",
       "      <td>Banco Central do Brasil - Selic</td>\n",
       "    </tr>\n",
       "    <tr>\n",
       "      <th>3</th>\n",
       "      <td>00038166</td>\n",
       "      <td>Bacen</td>\n",
       "      <td>NaN</td>\n",
       "      <td>Banco Central do Brasil</td>\n",
       "    </tr>\n",
       "    <tr>\n",
       "      <th>4</th>\n",
       "      <td>00122327</td>\n",
       "      <td>SANTINVEST S.A. - CFI</td>\n",
       "      <td>539.0</td>\n",
       "      <td>SANTINVEST S.A. - CREDITO, FINANCIAMENTO E INV...</td>\n",
       "    </tr>\n",
       "    <tr>\n",
       "      <th>...</th>\n",
       "      <td>...</td>\n",
       "      <td>...</td>\n",
       "      <td>...</td>\n",
       "      <td>...</td>\n",
       "    </tr>\n",
       "    <tr>\n",
       "      <th>354</th>\n",
       "      <td>92875780</td>\n",
       "      <td>WARREN CVMC LTDA</td>\n",
       "      <td>371.0</td>\n",
       "      <td>WARREN CORRETORA DE VALORES MOBILIÁRIOS E CÂMB...</td>\n",
       "    </tr>\n",
       "    <tr>\n",
       "      <th>355</th>\n",
       "      <td>92894922</td>\n",
       "      <td>BANCO ORIGINAL</td>\n",
       "      <td>212.0</td>\n",
       "      <td>Banco Original S.A.</td>\n",
       "    </tr>\n",
       "    <tr>\n",
       "      <th>356</th>\n",
       "      <td>94968518</td>\n",
       "      <td>EFX CC LTDA.</td>\n",
       "      <td>289.0</td>\n",
       "      <td>EFX CORRETORA DE CÂMBIO LTDA.</td>\n",
       "    </tr>\n",
       "    <tr>\n",
       "      <th>357</th>\n",
       "      <td></td>\n",
       "      <td>NaN</td>\n",
       "      <td>NaN</td>\n",
       "      <td>NaN</td>\n",
       "    </tr>\n",
       "    <tr>\n",
       "      <th>358</th>\n",
       "      <td></td>\n",
       "      <td>NaN</td>\n",
       "      <td>NaN</td>\n",
       "      <td>NaN</td>\n",
       "    </tr>\n",
       "  </tbody>\n",
       "</table>\n",
       "<p>359 rows × 4 columns</p>\n",
       "</div>"
      ],
      "text/plain": [
       "         ispb                        name   code  \\\n",
       "0    00000000          BCO DO BRASIL S.A.    1.0   \n",
       "1    00000208  BRB - BCO DE BRASILIA S.A.   70.0   \n",
       "2    00038121                       Selic    NaN   \n",
       "3    00038166                       Bacen    NaN   \n",
       "4    00122327       SANTINVEST S.A. - CFI  539.0   \n",
       "..        ...                         ...    ...   \n",
       "354  92875780            WARREN CVMC LTDA  371.0   \n",
       "355  92894922              BANCO ORIGINAL  212.0   \n",
       "356  94968518                EFX CC LTDA.  289.0   \n",
       "357                                   NaN    NaN   \n",
       "358                                   NaN    NaN   \n",
       "\n",
       "                                              fullName  \n",
       "0                                 Banco do Brasil S.A.  \n",
       "1                         BRB - BANCO DE BRASILIA S.A.  \n",
       "2                      Banco Central do Brasil - Selic  \n",
       "3                              Banco Central do Brasil  \n",
       "4    SANTINVEST S.A. - CREDITO, FINANCIAMENTO E INV...  \n",
       "..                                                 ...  \n",
       "354  WARREN CORRETORA DE VALORES MOBILIÁRIOS E CÂMB...  \n",
       "355                                Banco Original S.A.  \n",
       "356                      EFX CORRETORA DE CÂMBIO LTDA.  \n",
       "357                                                NaN  \n",
       "358                                                NaN  \n",
       "\n",
       "[359 rows x 4 columns]"
      ]
     },
     "execution_count": 8,
     "metadata": {},
     "output_type": "execute_result"
    }
   ],
   "source": [
    "bancos_df = pd.DataFrame(banco)\n",
    "bancos_df"
   ]
  },
  {
   "cell_type": "code",
   "execution_count": 9,
   "metadata": {},
   "outputs": [
    {
     "name": "stdout",
     "output_type": "stream",
     "text": [
      "<class 'pandas.core.frame.DataFrame'>\n",
      "RangeIndex: 359 entries, 0 to 358\n",
      "Data columns (total 4 columns):\n",
      " #   Column    Non-Null Count  Dtype  \n",
      "---  ------    --------------  -----  \n",
      " 0   ispb      359 non-null    object \n",
      " 1   name      357 non-null    object \n",
      " 2   code      348 non-null    float64\n",
      " 3   fullName  357 non-null    object \n",
      "dtypes: float64(1), object(3)\n",
      "memory usage: 11.3+ KB\n"
     ]
    }
   ],
   "source": [
    "bancos_df.info()"
   ]
  },
  {
   "cell_type": "code",
   "execution_count": null,
   "metadata": {},
   "outputs": [],
   "source": [
    "%pip install plyer"
   ]
  },
  {
   "cell_type": "code",
   "execution_count": 14,
   "metadata": {},
   "outputs": [],
   "source": [
    "from plyer import notification\n",
    "notification.notify(\n",
    "    title='Titulo da notificação',\n",
    "    message='Mensagem da notificação',\n",
    "    app_name= 'Nome do aplicativo',\n",
    "    timeout=10)"
   ]
  }
 ],
 "metadata": {
  "kernelspec": {
   "display_name": "Python 3",
   "language": "python",
   "name": "python3"
  },
  "language_info": {
   "codemirror_mode": {
    "name": "ipython",
    "version": 3
   },
   "file_extension": ".py",
   "mimetype": "text/x-python",
   "name": "python",
   "nbconvert_exporter": "python",
   "pygments_lexer": "ipython3",
   "version": "3.12.1"
  }
 },
 "nbformat": 4,
 "nbformat_minor": 2
}
